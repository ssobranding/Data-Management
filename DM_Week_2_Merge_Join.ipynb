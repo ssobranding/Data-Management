{
  "nbformat": 4,
  "nbformat_minor": 0,
  "metadata": {
    "colab": {
      "provenance": [],
      "authorship_tag": "ABX9TyN4FAgXgelRjptQz4ZkS0ev",
      "include_colab_link": true
    },
    "kernelspec": {
      "name": "python3",
      "display_name": "Python 3"
    },
    "language_info": {
      "name": "python"
    }
  },
  "cells": [
    {
      "cell_type": "markdown",
      "metadata": {
        "id": "view-in-github",
        "colab_type": "text"
      },
      "source": [
        "<a href=\"https://colab.research.google.com/github/p-tech/wbs-dm/blob/main/Merge_Join.ipynb\" target=\"_parent\"><img src=\"https://colab.research.google.com/assets/colab-badge.svg\" alt=\"Open In Colab\"/></a>"
      ]
    },
    {
      "cell_type": "markdown",
      "source": [
        "Merge in python: Simple example"
      ],
      "metadata": {
        "id": "rt5xeiUm0n4E"
      }
    },
    {
      "cell_type": "code",
      "execution_count": 2,
      "metadata": {
        "colab": {
          "base_uri": "https://localhost:8080/"
        },
        "id": "XYQLYFNf0jo2",
        "outputId": "22c41a3b-eb6d-4853-c988-e4d484be59f0"
      },
      "outputs": [
        {
          "output_type": "stream",
          "name": "stdout",
          "text": [
            "inner\n",
            "   ID     Name  Age\n",
            "0   2      Bob   24\n",
            "1   3  Charlie   30\n"
          ]
        }
      ],
      "source": [
        "import pandas as pd\n",
        "\n",
        "df1 = pd.DataFrame({\n",
        "    'ID': [1, 2, 3],\n",
        "    'Name': ['Alice', 'Bob', 'Charlie']\n",
        "})\n",
        "\n",
        "df2 = pd.DataFrame({\n",
        "    'ID': [2, 3, 4],\n",
        "    'Age': [24, 30, 28]\n",
        "})\n",
        "\n",
        "# Perform an inner merge on the 'ID' column\n",
        "result = pd.merge(df1, df2, on='ID', how='inner')\n",
        "print(\"inner\")\n",
        "print(result)"
      ]
    },
    {
      "cell_type": "code",
      "source": [
        "# Perform an inner merge on the 'ID' column\n",
        "result = pd.merge(df1, df2, on='ID', how='outer')\n",
        "print(\"Outer\")\n",
        "print(result)"
      ],
      "metadata": {
        "colab": {
          "base_uri": "https://localhost:8080/"
        },
        "id": "Q0pacaQD08n7",
        "outputId": "b0ca3152-82a6-48c7-bd03-f4403971a27f"
      },
      "execution_count": 3,
      "outputs": [
        {
          "output_type": "stream",
          "name": "stdout",
          "text": [
            "Outer\n",
            "   ID     Name   Age\n",
            "0   1    Alice   NaN\n",
            "1   2      Bob  24.0\n",
            "2   3  Charlie  30.0\n",
            "3   4      NaN  28.0\n"
          ]
        }
      ]
    },
    {
      "cell_type": "code",
      "source": [
        "# Perform an inner merge on the 'ID' column\n",
        "result = pd.merge(df1, df2, on='ID', how='left')\n",
        "print(\"left\")\n",
        "print(result)"
      ],
      "metadata": {
        "colab": {
          "base_uri": "https://localhost:8080/"
        },
        "id": "qjnpjgHv1Ef1",
        "outputId": "7922bda6-1bb2-4ef2-d292-5b8087d80403"
      },
      "execution_count": 4,
      "outputs": [
        {
          "output_type": "stream",
          "name": "stdout",
          "text": [
            "left\n",
            "   ID     Name   Age\n",
            "0   1    Alice   NaN\n",
            "1   2      Bob  24.0\n",
            "2   3  Charlie  30.0\n"
          ]
        }
      ]
    },
    {
      "cell_type": "code",
      "source": [
        "# Perform an inner merge on the 'ID' column\n",
        "result = pd.merge(df1, df2, on='ID', how='right')\n",
        "print(\"inner\")\n",
        "print(result)"
      ],
      "metadata": {
        "colab": {
          "base_uri": "https://localhost:8080/"
        },
        "id": "K2Fl9hSa1JVe",
        "outputId": "d275f0e1-caa1-4595-f4bc-60f03fc09f1c"
      },
      "execution_count": 5,
      "outputs": [
        {
          "output_type": "stream",
          "name": "stdout",
          "text": [
            "inner\n",
            "   ID     Name  Age\n",
            "0   2      Bob   24\n",
            "1   3  Charlie   30\n",
            "2   4      NaN   28\n"
          ]
        }
      ]
    },
    {
      "cell_type": "markdown",
      "source": [
        "Join in Python"
      ],
      "metadata": {
        "id": "z_xHNA-f1QqO"
      }
    },
    {
      "cell_type": "code",
      "source": [
        "df3 = pd.DataFrame({\n",
        "    'Age': [24, 30, 28]\n",
        "}, index=[2, 3, 4])\n",
        "\n",
        "df4 = pd.DataFrame({\n",
        "    'Name': ['Alice', 'Bob', 'Charlie']\n",
        "}, index=[1, 2, 3])\n",
        "\n",
        "# Perform a left join using the index\n",
        "result = df4.join(df3, how='left')\n",
        "print(result)"
      ],
      "metadata": {
        "colab": {
          "base_uri": "https://localhost:8080/"
        },
        "id": "j42fmvFR1TNf",
        "outputId": "aee19bde-2d47-445d-cc76-a451e7ab6b8d"
      },
      "execution_count": 6,
      "outputs": [
        {
          "output_type": "stream",
          "name": "stdout",
          "text": [
            "      Name   Age\n",
            "1    Alice   NaN\n",
            "2      Bob  24.0\n",
            "3  Charlie  30.0\n"
          ]
        }
      ]
    },
    {
      "cell_type": "code",
      "source": [
        "# Perform a left join using the index\n",
        "result = df4.join(df3, how='right')\n",
        "print(result)"
      ],
      "metadata": {
        "colab": {
          "base_uri": "https://localhost:8080/"
        },
        "id": "sKsZFW5P1aYF",
        "outputId": "ecc6848f-b00f-4535-dcea-6f3af3fc4127"
      },
      "execution_count": 7,
      "outputs": [
        {
          "output_type": "stream",
          "name": "stdout",
          "text": [
            "      Name  Age\n",
            "2      Bob   24\n",
            "3  Charlie   30\n",
            "4      NaN   28\n"
          ]
        }
      ]
    },
    {
      "cell_type": "code",
      "source": [
        "# Perform a left join using the index\n",
        "result = df4.join(df3, how='inner')\n",
        "print(result)"
      ],
      "metadata": {
        "colab": {
          "base_uri": "https://localhost:8080/"
        },
        "id": "nyjvoT8V1i7f",
        "outputId": "8035d769-a1cc-4d17-9923-193acebbde0c"
      },
      "execution_count": 8,
      "outputs": [
        {
          "output_type": "stream",
          "name": "stdout",
          "text": [
            "      Name  Age\n",
            "2      Bob   24\n",
            "3  Charlie   30\n"
          ]
        }
      ]
    },
    {
      "cell_type": "code",
      "source": [
        "# Perform a left join using the index\n",
        "result = df4.join(df3, how='outer')\n",
        "print(result)"
      ],
      "metadata": {
        "colab": {
          "base_uri": "https://localhost:8080/"
        },
        "id": "0oIqRRbk1lbY",
        "outputId": "9c4f8f77-c15c-48d3-9f3d-dcb81ba1950b"
      },
      "execution_count": 9,
      "outputs": [
        {
          "output_type": "stream",
          "name": "stdout",
          "text": [
            "      Name   Age\n",
            "1    Alice   NaN\n",
            "2      Bob  24.0\n",
            "3  Charlie  30.0\n",
            "4      NaN  28.0\n"
          ]
        }
      ]
    }
  ]
}