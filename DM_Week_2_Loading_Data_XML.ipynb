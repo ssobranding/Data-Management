{
  "nbformat": 4,
  "nbformat_minor": 0,
  "metadata": {
    "colab": {
      "provenance": [],
      "authorship_tag": "ABX9TyPCagH9N9gD/DwDQ+XdhPC8",
      "include_colab_link": true
    },
    "kernelspec": {
      "name": "python3",
      "display_name": "Python 3"
    },
    "language_info": {
      "name": "python"
    }
  },
  "cells": [
    {
      "cell_type": "markdown",
      "metadata": {
        "id": "view-in-github",
        "colab_type": "text"
      },
      "source": [
        "<a href=\"https://colab.research.google.com/github/p-tech/wbs-dm/blob/main/Loading_Data_XML.ipynb\" target=\"_parent\"><img src=\"https://colab.research.google.com/assets/colab-badge.svg\" alt=\"Open In Colab\"/></a>"
      ]
    },
    {
      "cell_type": "markdown",
      "source": [
        "Step 1: Import pandas"
      ],
      "metadata": {
        "id": "iNcvgIgWwpDG"
      }
    },
    {
      "cell_type": "code",
      "execution_count": null,
      "metadata": {
        "id": "WogefL6iwJYG"
      },
      "outputs": [],
      "source": [
        "import pandas as pd\n",
        "\n",
        "# Install pandas if not already installed\n",
        "!pip install pandas\n"
      ]
    },
    {
      "cell_type": "markdown",
      "source": [
        "# Working with XML Files"
      ],
      "metadata": {
        "id": "wbrMFN9D0N-X"
      }
    },
    {
      "cell_type": "markdown",
      "source": [
        "Load an xml file into your workspace.  Use the upload icon to upload the XML file into colab."
      ],
      "metadata": {
        "id": "r_zO1N3j0WvC"
      }
    },
    {
      "cell_type": "code",
      "source": [
        "# prompt: load prdouct-feed.xml inot dataframe\n",
        "\n",
        "import xml.etree.ElementTree as ET\n",
        "\n"
      ],
      "metadata": {
        "id": "4ziUI1pK-YV7"
      },
      "execution_count": 2,
      "outputs": []
    },
    {
      "cell_type": "code",
      "source": [
        "# Assuming 'xml file is in the path' is in your current working directory.\n",
        "# If not, specify the full path.\n",
        "tree = ET.parse('6955_Default.xml')\n",
        "root = tree.getroot()\n",
        "\n",
        "# Create lists to store data\n",
        "data = []\n",
        "\n"
      ],
      "metadata": {
        "id": "Jx7fFuWg-mgW"
      },
      "execution_count": 3,
      "outputs": []
    },
    {
      "cell_type": "code",
      "source": [
        "# Extract data from the XML file\n",
        "for item in root.findall('.//Property'):  # Assumes each product is under <product> tag\n",
        "    product_data = {}\n",
        "    for child in item:\n",
        "        product_data[child.tag] = child.text\n",
        "    data.append(product_data)\n",
        "\n",
        "\n"
      ],
      "metadata": {
        "id": "-mRYmHXy-pMx"
      },
      "execution_count": 4,
      "outputs": []
    },
    {
      "cell_type": "code",
      "source": [
        "# Create the pandas DataFrame\n",
        "df = pd.DataFrame(data)\n",
        "\n",
        "df"
      ],
      "metadata": {
        "id": "Z_r8qlkm-sEo"
      },
      "execution_count": null,
      "outputs": []
    },
    {
      "cell_type": "code",
      "source": [
        "# Extract data from the XML file\n",
        "\n",
        "properties = []\n",
        "\n",
        "for property_elem in root.findall('.//Property'):  # Assumes each product is under <product> tag\n",
        "    property_info = {\n",
        "        \"Property ID\": property_elem.findtext(\"propertyid\"),\n",
        "        \"Last Update Date\": property_elem.findtext(\"lastUpdateDate\"),\n",
        "        \"Category\": property_elem.findtext(\"category\"),\n",
        "        \"Street\": property_elem.findtext(\".//Address/street\"),\n",
        "        \"Postcode\": property_elem.findtext(\".//Address/postcode\"),\n",
        "        \"Location\": property_elem.findtext(\".//Address/location\"),\n",
        "        \"Region\": property_elem.findtext(\".//Address/region\"),\n",
        "        \"Country\": property_elem.findtext(\".//Address/country\"),\n",
        "        \"Price\": property_elem.findtext(\".//Price/price\"),\n",
        "        \"Currency\": property_elem.findtext(\".//Price/currency\"),\n",
        "        \"Property Type\": property_elem.findtext(\".//Description/propertyType\"),\n",
        "        \"Bedrooms\": property_elem.findtext(\".//Description/bedrooms\"),\n",
        "        \"Tenure\": property_elem.findtext(\".//Description/Tenure\"),\n",
        "        \"Title\": property_elem.findtext(\".//Description/title\"),\n",
        "        \"Short Description\": property_elem.findtext(\".//Description/shortDescription\"),\n",
        "    }\n",
        "    properties.append(property_info)\n",
        "\n"
      ],
      "metadata": {
        "id": "OdIU8flVA2E5"
      },
      "execution_count": 6,
      "outputs": []
    },
    {
      "cell_type": "code",
      "source": [
        "df_prop = pd.DataFrame(properties)"
      ],
      "metadata": {
        "id": "50bCNgnvDA8p"
      },
      "execution_count": 7,
      "outputs": []
    },
    {
      "cell_type": "code",
      "source": [
        "df_prop.head()"
      ],
      "metadata": {
        "id": "B_lq16_xDEXb"
      },
      "execution_count": null,
      "outputs": []
    },
    {
      "cell_type": "code",
      "source": [
        "df_prop.to_csv('proeprty_export.csv', index=False)  # Export to CSV, set index=False to avoid saving row indices\n",
        "print(f\"DataFrame exported:\")"
      ],
      "metadata": {
        "id": "SE-VIo0pFwoh"
      },
      "execution_count": null,
      "outputs": []
    },
    {
      "cell_type": "code",
      "source": [
        "# Display extracted property information\n",
        "for i, prop in enumerate(properties, start=1):\n",
        "    print(f\"Property {i}:\")\n",
        "    for key, value in prop.items():\n",
        "        print(f\"  {key}: {value}\")\n",
        "    print()"
      ],
      "metadata": {
        "id": "EWLW8rteC3Of"
      },
      "execution_count": null,
      "outputs": []
    }
  ]
}