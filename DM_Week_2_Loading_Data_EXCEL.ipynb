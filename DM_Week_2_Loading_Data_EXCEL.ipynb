{
  "nbformat": 4,
  "nbformat_minor": 0,
  "metadata": {
    "colab": {
      "provenance": [],
      "authorship_tag": "ABX9TyPywK5dSGW1WdH5iL51zlsT",
      "include_colab_link": true
    },
    "kernelspec": {
      "name": "python3",
      "display_name": "Python 3"
    },
    "language_info": {
      "name": "python"
    }
  },
  "cells": [
    {
      "cell_type": "markdown",
      "metadata": {
        "id": "view-in-github",
        "colab_type": "text"
      },
      "source": [
        "<a href=\"https://colab.research.google.com/github/p-tech/wbs-dm/blob/main/Loading_Data_EXCEL.ipynb\" target=\"_parent\"><img src=\"https://colab.research.google.com/assets/colab-badge.svg\" alt=\"Open In Colab\"/></a>"
      ]
    },
    {
      "cell_type": "markdown",
      "source": [
        "Step 1: Import pandas"
      ],
      "metadata": {
        "id": "iNcvgIgWwpDG"
      }
    },
    {
      "cell_type": "code",
      "execution_count": null,
      "metadata": {
        "id": "WogefL6iwJYG"
      },
      "outputs": [],
      "source": [
        "import pandas as pd\n",
        "\n",
        "# Install pandas if not already installed\n",
        "!pip install pandas\n"
      ]
    },
    {
      "cell_type": "markdown",
      "source": [
        "# Working with XLSX Files"
      ],
      "metadata": {
        "id": "wbrMFN9D0N-X"
      }
    },
    {
      "cell_type": "markdown",
      "source": [
        "Load an xls file into your workspace.  Use the upload icon to upload the EXCEL file into colab. To read the Excel file needs us to use an engine - in this case we're loading openpxyl."
      ],
      "metadata": {
        "id": "r_zO1N3j0WvC"
      }
    },
    {
      "cell_type": "code",
      "source": [
        "import warnings\n",
        "# Ignore UserWarning messages\n",
        "warnings.filterwarnings(\"ignore\", category=UserWarning)\n",
        "\n",
        "# Install openpyxl if not already installed\n",
        "!pip install openpyxl\n",
        "\n"
      ],
      "metadata": {
        "id": "6h-_LDQK0Vcf"
      },
      "execution_count": null,
      "outputs": []
    },
    {
      "cell_type": "markdown",
      "source": [
        "open the excel file and load into dataframe - labelled df_xls"
      ],
      "metadata": {
        "id": "d7kakixH2ujH"
      }
    },
    {
      "cell_type": "code",
      "source": [
        "# Load the xlsx file into a DataFrame\n",
        "df_xlsx = pd.read_excel('/content/enable.xlsx')\n",
        "\n",
        "# Display the first few rows of the DataFrame\n",
        "df_xlsx.head()"
      ],
      "metadata": {
        "id": "WNhcQOJ-203v"
      },
      "execution_count": null,
      "outputs": []
    },
    {
      "cell_type": "markdown",
      "source": [
        "Why use openpyxl:  \n",
        "\n",
        "Read Excel files:\n",
        "It can open existing Excel files and extract data, including the values of cells, sheet names, and even formulas.\n",
        "\n",
        "Write and edit Excel files:\n",
        "You can create new Excel files, write data into them, modify existing content, and save changes—all while maintaining the file format.\n",
        "\n",
        "Access formatting and styles:\n",
        "With openpyxl, you can retrieve or modify cell formatting, such as font styles, cell colours, and borders, which is not possible with simpler libraries like csv.\n",
        "\n",
        "Work with multiple sheets:\n",
        "Excel files often have more than one sheet. openpyxl can navigate between sheets, add new sheets, or delete existing ones.\n",
        "\n",
        "Support for Excel-specific features:\n",
        "Since openpyxl directly interacts with the Excel file structure, it can handle complex features like merged cells, charts, and conditional formatting, which are common in business reports or data analysis files"
      ],
      "metadata": {
        "id": "atQZBcpf3M0m"
      }
    },
    {
      "cell_type": "code",
      "source": [
        "# Print the sheet names\n",
        "print(df_xlsx.keys())"
      ],
      "metadata": {
        "id": "D4B4D_dA3bPw"
      },
      "execution_count": null,
      "outputs": []
    },
    {
      "cell_type": "markdown",
      "source": [
        "The EXCEL contains mutliple sheets.  Step through the spreadsheet and load each sheet into a different dataframe"
      ],
      "metadata": {
        "id": "YKT2izpN4Yiz"
      }
    },
    {
      "cell_type": "code",
      "source": [
        "# Specify the path to your Excel file\n",
        "excel_file = '/content/enable.xlsx'\n",
        "\n",
        "# Create an empty dictionary to store DataFrames for each sheet\n",
        "all_sheets_data = {}\n",
        "\n",
        "# Use pd.ExcelFile to efficiently read all sheets\n",
        "xls = pd.ExcelFile(excel_file, engine='openpyxl')\n",
        "\n",
        "# Iterate through each sheet name in the Excel file\n",
        "for sheet_name in xls.sheet_names:\n",
        "    # Read each sheet into a DataFrame and store it in the dictionary\n",
        "    all_sheets_data[sheet_name] = pd.read_excel(excel_file, sheet_name=sheet_name, engine='openpyxl')\n",
        "\n",
        "# Now you have all the sheets in the 'all_sheets_data' dictionary\n",
        "# Access each sheet's DataFrame using the sheet name as the key:\n",
        "\n",
        "# Print the sheet names and the first few rows of each sheet\n",
        "for sheet_name, df in all_sheets_data.items():\n",
        "    print(f\"Sheet Name: {sheet_name}\")\n",
        "    print(df.head())\n",
        "    print(\"-\" * 20)"
      ],
      "metadata": {
        "id": "dEVDrBtM6y1T"
      },
      "execution_count": null,
      "outputs": []
    },
    {
      "cell_type": "code",
      "source": [
        "# Export each DataFrame to a separate CSV file\n",
        "for sheet_name, df in all_sheets_data.items():\n",
        "    csv_file_name = f\"{sheet_name}.csv\"  # Create the CSV file name based on sheet name\n",
        "    df.to_csv(csv_file_name, index=False)  # Export to CSV, set index=False to avoid saving row indices\n",
        "    print(f\"DataFrame '{sheet_name}' exported to '{csv_file_name}'\")"
      ],
      "metadata": {
        "id": "t_9BkUPkEi9Y"
      },
      "execution_count": null,
      "outputs": []
    }
  ]
}